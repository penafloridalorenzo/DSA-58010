{
  "nbformat": 4,
  "nbformat_minor": 0,
  "metadata": {
    "colab": {
      "name": "Practical Lab Penaflorida.ipynb",
      "provenance": [],
      "authorship_tag": "ABX9TyOf7bl5jiDcUtyRpQLC2C9o",
      "include_colab_link": true
    },
    "kernelspec": {
      "name": "python3",
      "display_name": "Python 3"
    },
    "language_info": {
      "name": "python"
    }
  },
  "cells": [
    {
      "cell_type": "markdown",
      "metadata": {
        "id": "view-in-github",
        "colab_type": "text"
      },
      "source": [
        "<a href=\"https://colab.research.google.com/github/penafloridalorenzo/DSA-58010/blob/main/Practical_Lab_Penaflorida.ipynb\" target=\"_parent\"><img src=\"https://colab.research.google.com/assets/colab-badge.svg\" alt=\"Open In Colab\"/></a>"
      ]
    },
    {
      "cell_type": "code",
      "execution_count": 1,
      "metadata": {
        "colab": {
          "base_uri": "https://localhost:8080/"
        },
        "id": "rO60UdR7qg9t",
        "outputId": "ca92a601-7900-405f-9106-bee7a2fda2b9"
      },
      "outputs": [
        {
          "output_type": "stream",
          "name": "stdout",
          "text": [
            "Please enter the Total Number of List Elements: 6\n",
            "Please enter the Value of 1 Element : 26\n",
            "Please enter the Value of 2 Element : 49\n",
            "Please enter the Value of 3 Element : 98\n",
            "Please enter the Value of 4 Element : 87\n",
            "Please enter the Value of 5 Element : 62\n",
            "Please enter the Value of 6 Element : 75\n",
            "The Sum of Even Numbers in this List =   186\n"
          ]
        }
      ],
      "source": [
        "# Python Program to find Sum of Even Numbers in a List\n",
        "\n",
        "NumList = []\n",
        "Even_Sum = 0\n",
        "\n",
        "Number = int(input(\"Please enter the Total Number of List Elements: \"))\n",
        "for i in range(1, Number + 1):\n",
        "    value = int(input(\"Please enter the Value of %d Element : \" %i))\n",
        "    NumList.append(value)\n",
        "\n",
        "for j in range(Number):\n",
        "    if(NumList[j] % 2 == 0):\n",
        "        Even_Sum = Even_Sum + NumList[j]\n",
        "\n",
        "print(\"The Sum of Even Numbers in this List =  \", Even_Sum)"
      ]
    },
    {
      "cell_type": "markdown",
      "source": [
        "**ALGORITHM**\n",
        "\n",
        "1. Start\n",
        "2. Create a \"List\"\n",
        "3. Define \"sum\"\n",
        "4. Input \"Please enter the Total Number of List Elements: \"\n",
        "5. For Loop 'i' created\n",
        "6. input and define scores\n",
        "7. Append score values to list\n",
        "8. For Loop 'j' created\n",
        "9. if(NumList[j] % 2 == 0): will determine the even numbers\n",
        "10. Summation of all even numbers in the list\n",
        "11. Print result\n",
        "12. Terminate\n"
      ],
      "metadata": {
        "id": "c5bMhLvKrGw1"
      }
    }
  ]
}