{
  "nbformat": 4,
  "nbformat_minor": 0,
  "metadata": {
    "colab": {
      "name": "Practical Lab Penaflorida.ipynb",
      "provenance": [],
      "authorship_tag": "ABX9TyOCfLSv+7uKs586lARBBctH",
      "include_colab_link": true
    },
    "kernelspec": {
      "name": "python3",
      "display_name": "Python 3"
    },
    "language_info": {
      "name": "python"
    }
  },
  "cells": [
    {
      "cell_type": "markdown",
      "metadata": {
        "id": "view-in-github",
        "colab_type": "text"
      },
      "source": [
        "<a href=\"https://colab.research.google.com/github/penafloridalorenzo/DSA-58010/blob/main/Practical_Lab_Penaflorida.ipynb\" target=\"_parent\"><img src=\"https://colab.research.google.com/assets/colab-badge.svg\" alt=\"Open In Colab\"/></a>"
      ]
    },
    {
      "cell_type": "code",
      "source": [
        "# Python Program to find Sum of Even Numbers in a List\n",
        "\n",
        "NumList = []\n",
        "Even_Sum = 0\n",
        "\n",
        "Number = int(input(\"Please enter the Total Number of List Elements: \"))\n",
        "for i in range(1, Number + 1):\n",
        "    value = int(input(\"Please enter the Value of %d Element : \" %i))\n",
        "    NumList.append(value)\n",
        "\n",
        "for j in range(Number):\n",
        "    if(NumList[j] % 2 == 0):\n",
        "        Even_Sum = Even_Sum + NumList[j]\n",
        "\n",
        "print(\"The Sum of Even Numbers in this List =  \", Even_Sum)"
      ],
      "metadata": {
        "colab": {
          "base_uri": "https://localhost:8080/"
        },
        "id": "8Ey7kMfJlbw9",
        "outputId": "13e1f676-9226-4e39-e539-abc2dc1d484f"
      },
      "execution_count": 32,
      "outputs": [
        {
          "output_type": "stream",
          "name": "stdout",
          "text": [
            "Please enter the Total Number of List Elements: 6\n",
            "Please enter the Value of 1 Element : 26\n",
            "Please enter the Value of 2 Element : 49\n",
            "Please enter the Value of 3 Element : 98\n",
            "Please enter the Value of 4 Element : 87\n",
            "Please enter the Value of 5 Element : 62\n",
            "Please enter the Value of 6 Element : 75\n",
            "The Sum of Even Numbers in this List =   186\n"
          ]
        }
      ]
    }
  ]
}