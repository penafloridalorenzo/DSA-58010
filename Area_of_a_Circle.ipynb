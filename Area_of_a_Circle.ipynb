{
  "nbformat": 4,
  "nbformat_minor": 0,
  "metadata": {
    "colab": {
      "name": "Area of a Circle.ipynb",
      "provenance": [],
      "authorship_tag": "ABX9TyM1Yx6w3ICKtY6upwTJP3RV",
      "include_colab_link": true
    },
    "kernelspec": {
      "name": "python3",
      "display_name": "Python 3"
    },
    "language_info": {
      "name": "python"
    }
  },
  "cells": [
    {
      "cell_type": "markdown",
      "metadata": {
        "id": "view-in-github",
        "colab_type": "text"
      },
      "source": [
        "<a href=\"https://colab.research.google.com/github/penafloridalorenzo/DSA-58010/blob/main/Area_of_a_Circle.ipynb\" target=\"_parent\"><img src=\"https://colab.research.google.com/assets/colab-badge.svg\" alt=\"Open In Colab\"/></a>"
      ]
    },
    {
      "cell_type": "code",
      "execution_count": 7,
      "metadata": {
        "colab": {
          "base_uri": "https://localhost:8080/"
        },
        "id": "qLbDX7XdStkH",
        "outputId": "998114e9-5f89-4297-da52-93449e4b9efa"
      },
      "outputs": [
        {
          "output_type": "stream",
          "name": "stdout",
          "text": [
            "Enter the radius of the circle: 20\n",
            "1257.142857142857\n"
          ]
        }
      ],
      "source": [
        "#Area Of A Circle in python\n",
        "R = int(input(\"Enter the radius of the circle: \"))\n",
        "PI = 22/7 #This is a constant\n",
        "A = PI * R * R\n",
        "print(A)"
      ]
    },
    {
      "cell_type": "code",
      "source": [
        "#Area Of A Circle in python\n",
        "D = int(input(\"Enter the diameter of the circle: \"))\n",
        "PI = 22/7 #This is a constant\n",
        "A = PI * D * D / 4\n",
        "print(A)"
      ],
      "metadata": {
        "colab": {
          "base_uri": "https://localhost:8080/"
        },
        "id": "mPKNrA0eWyeJ",
        "outputId": "7f509c82-5e2c-4ee0-c885-e09a43594f6b"
      },
      "execution_count": 8,
      "outputs": [
        {
          "output_type": "stream",
          "name": "stdout",
          "text": [
            "Enter the diameter of the circle: 40\n",
            "1257.142857142857\n"
          ]
        }
      ]
    }
  ]
}