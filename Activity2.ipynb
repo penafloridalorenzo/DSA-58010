{
  "nbformat": 4,
  "nbformat_minor": 0,
  "metadata": {
    "colab": {
      "provenance": [],
      "authorship_tag": "ABX9TyONH1jg+V745cfjuGa/ffZ1",
      "include_colab_link": true
    },
    "kernelspec": {
      "name": "python3",
      "display_name": "Python 3"
    },
    "language_info": {
      "name": "python"
    }
  },
  "cells": [
    {
      "cell_type": "markdown",
      "metadata": {
        "id": "view-in-github",
        "colab_type": "text"
      },
      "source": [
        "<a href=\"https://colab.research.google.com/github/penafloridalorenzo/DSA-58010/blob/main/Activity2.ipynb\" target=\"_parent\"><img src=\"https://colab.research.google.com/assets/colab-badge.svg\" alt=\"Open In Colab\"/></a>"
      ]
    },
    {
      "cell_type": "code",
      "execution_count": 15,
      "metadata": {
        "colab": {
          "base_uri": "https://localhost:8080/"
        },
        "id": "-uuGTWr6JkSg",
        "outputId": "e64a10f9-1af3-44ab-a310-a96f7d497be7"
      },
      "outputs": [
        {
          "output_type": "stream",
          "name": "stdout",
          "text": [
            "Head: 2\n",
            "Tail: 19\n",
            "Prime numbers less than 20 :  2\n",
            "Prime numbers less than 20 :  3\n",
            "Prime numbers less than 20 :  5\n",
            "Prime numbers less than 20 :  7\n",
            "Prime numbers less than 20 :  11\n",
            "Prime numbers less than 20 :  13\n",
            "Prime numbers less than 20 :  17\n",
            "Prime numbers less than 20 :  19\n"
          ]
        }
      ],
      "source": [
        "# Python program to create a singly linked list of prime numbers less than 20. By iterating through the list, display all the prime numbers, the head, and the tail of the list.\n",
        "class Node:\n",
        "  def __init__(self,data):\n",
        "    self.data = data\n",
        "    self.next = None\n",
        "\n",
        "class Linked_List:\n",
        "  def __init__(self):\n",
        "    self.head = None\n",
        "    self.tail = None\n",
        "\n",
        "  def printprimelist(self):\n",
        "    a = self.head\n",
        "    while(a!=None):\n",
        "      print(\"Prime numbers less than 20 : \", a.data)\n",
        "      a = a.next\n",
        "\n",
        "list = Linked_List()\n",
        "list.head = Node(2)\n",
        "second = Node(3)\n",
        "third = Node(5)\n",
        "fourth = Node(7)\n",
        "fifth = Node(11)\n",
        "sixth = Node(13)\n",
        "seventh = Node(17)\n",
        "eight = Node(19)\n",
        "\n",
        "list.head.next = second\n",
        "second.next = third\n",
        "third.next = fourth\n",
        "fourth.next = fifth\n",
        "fifth.next = sixth\n",
        "sixth.next = seventh\n",
        "seventh.next = eight\n",
        "\n",
        "print(\"Head:\",list.head.data)\n",
        "print(\"Tail:\",seventh.next.data)\n",
        "list.printprimelist()"
      ]
    }
  ]
}