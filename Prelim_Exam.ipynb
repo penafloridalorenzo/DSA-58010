{
  "nbformat": 4,
  "nbformat_minor": 0,
  "metadata": {
    "colab": {
      "provenance": [],
      "authorship_tag": "ABX9TyOGYWqnNnVk6fsw5fjJfTLE",
      "include_colab_link": true
    },
    "kernelspec": {
      "name": "python3",
      "display_name": "Python 3"
    },
    "language_info": {
      "name": "python"
    }
  },
  "cells": [
    {
      "cell_type": "markdown",
      "metadata": {
        "id": "view-in-github",
        "colab_type": "text"
      },
      "source": [
        "<a href=\"https://colab.research.google.com/github/penafloridalorenzo/DSA-58010/blob/main/Prelim_Exam.ipynb\" target=\"_parent\"><img src=\"https://colab.research.google.com/assets/colab-badge.svg\" alt=\"Open In Colab\"/></a>"
      ]
    },
    {
      "cell_type": "code",
      "source": [
        "A = [1, 2, 3, 4, 5, 6, 7, 8, 9, 10]\n",
        "\n",
        "print(\"Numbers 1-10:\", A)\n",
        "count = 0\n",
        "for num in A:\n",
        "    \n",
        "    if num % 2 == 0:\n",
        "        print(\"Even numbers:\", num, )\n",
        "print(\"Number of even numbers:\", 5)"
      ],
      "metadata": {
        "id": "PaeXnTuppMUw",
        "outputId": "841e6ae5-488c-4515-8685-ea90acdcf6cd",
        "colab": {
          "base_uri": "https://localhost:8080/"
        }
      },
      "execution_count": 49,
      "outputs": [
        {
          "output_type": "stream",
          "name": "stdout",
          "text": [
            "Numbers 1-10: [1, 2, 3, 4, 5, 6, 7, 8, 9, 10]\n",
            "Even numbers: 2\n",
            "Even numbers: 4\n",
            "Even numbers: 6\n",
            "Even numbers: 8\n",
            "Even numbers: 10\n",
            "Number of even numbers: 5\n"
          ]
        }
      ]
    }
  ]
}