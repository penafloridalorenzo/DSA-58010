{
  "nbformat": 4,
  "nbformat_minor": 0,
  "metadata": {
    "colab": {
      "provenance": [],
      "authorship_tag": "ABX9TyObDIh0iX5nDkrxzQWVmvZU",
      "include_colab_link": true
    },
    "kernelspec": {
      "name": "python3",
      "display_name": "Python 3"
    },
    "language_info": {
      "name": "python"
    }
  },
  "cells": [
    {
      "cell_type": "markdown",
      "metadata": {
        "id": "view-in-github",
        "colab_type": "text"
      },
      "source": [
        "<a href=\"https://colab.research.google.com/github/penafloridalorenzo/DSA-58010/blob/main/Activity_7.ipynb\" target=\"_parent\"><img src=\"https://colab.research.google.com/assets/colab-badge.svg\" alt=\"Open In Colab\"/></a>"
      ]
    },
    {
      "cell_type": "code",
      "execution_count": 1,
      "metadata": {
        "colab": {
          "base_uri": "https://localhost:8080/"
        },
        "id": "VrqAX87zKR_u",
        "outputId": "9efb4614-d239-4199-8c27-4be6d03b632b"
      },
      "outputs": [
        {
          "output_type": "stream",
          "name": "stdout",
          "text": [
            "{'E': [['I', 33], ['J', 58], ['K', 41], ['M', 69]], 'F': [['I', 43], ['J', 32], ['K', 51], ['P', 70]], 'H': [['I', 16], ['J', 22], ['K', 100]], 'I': [['E', 33], ['F', 43], ['H', 16]], 'J': [['E', 58], ['F', 32], ['H', 22]], 'K': [['E', 41], ['F', 51], ['H', 100]], 'M': [['E', 69]], 'P': [['F', 70]]}\n"
          ]
        }
      ],
      "source": [
        "#Implementation of Graph28 (V,E)\n",
        "\n",
        "G28 ={\n",
        "    'E': [['I',33], ['J', 58], ['K', 41], ['M', 69]] ,\n",
        "    'F': [['I',43], ['J', 32], ['K', 51], ['P', 70]] ,\n",
        "    'H': [['I',16], ['J', 22], ['K', 100]] ,\n",
        "    'I': [['E',33], ['F', 43], ['H', 16]] ,\n",
        "    'J': [['E',58], ['F', 32], ['H', 22]] ,\n",
        "    'K': [['E',41], ['F', 51], ['H', 100]] ,\n",
        "    'M': [['E',69]] , \n",
        "    'P': [['F',70]]\n",
        "}\n",
        "\n",
        "print(G28)"
      ]
    }
  ]
}