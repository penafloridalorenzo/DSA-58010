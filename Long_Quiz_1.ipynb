{
  "nbformat": 4,
  "nbformat_minor": 0,
  "metadata": {
    "colab": {
      "provenance": [],
      "authorship_tag": "ABX9TyPPamuZfb+8C0dgkpRvXZov",
      "include_colab_link": true
    },
    "kernelspec": {
      "name": "python3",
      "display_name": "Python 3"
    },
    "language_info": {
      "name": "python"
    }
  },
  "cells": [
    {
      "cell_type": "markdown",
      "metadata": {
        "id": "view-in-github",
        "colab_type": "text"
      },
      "source": [
        "<a href=\"https://colab.research.google.com/github/penafloridalorenzo/DSA-58010/blob/main/Long_Quiz_1.ipynb\" target=\"_parent\"><img src=\"https://colab.research.google.com/assets/colab-badge.svg\" alt=\"Open In Colab\"/></a>"
      ]
    },
    {
      "cell_type": "code",
      "execution_count": 16,
      "metadata": {
        "colab": {
          "base_uri": "https://localhost:8080/"
        },
        "id": "5tlc8bCpdgVf",
        "outputId": "35204960-3033-435e-e2f6-64741060cab9"
      },
      "outputs": [
        {
          "output_type": "stream",
          "name": "stdout",
          "text": [
            "Full Name ['L', 'o', 'r', 'e', 'n', 'z', 'o', 'A', 'r', 'c', 'h', 'i', 'b', 'a', 'l', 'd', 'E.', 'P', 'e', 'ñ', 'a', 'f', 'l', 'o', 'r', 'i', 'd', 'a']\n",
            "Reversed Name: ['a', 'd', 'i', 'r', 'o', 'l', 'f', 'a', 'ñ', 'e', 'P', 'E.', 'd', 'l', 'a', 'b', 'i', 'h', 'c', 'r', 'A', 'o', 'z', 'n', 'e', 'r', 'o', 'L']\n"
          ]
        }
      ],
      "source": [
        "arr = [\"L\", \"o\", \"r\", \"e\", \"n\", \"z\", \"o\", \"A\", \"r\", \"c\", \"h\", \"i\", \"b\", \"a\", \"l\", \"d\", \"E.\", \"P\", \"e\", \"ñ\", \"a\", \"f\", \"l\", \"o\", \"r\", \"i\", \"d\", \"a\", ]\n",
        "print(\"Full Name\", arr)\n",
        "\n",
        "arr.reverse()\n",
        "print(\"Reversed Name:\", arr)"
      ]
    }
  ]
}